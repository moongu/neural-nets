{
 "cells": [
  {
   "cell_type": "code",
   "execution_count": 29,
   "metadata": {
    "collapsed": false
   },
   "outputs": [
    {
     "name": "stdout",
     "output_type": "stream",
     "text": [
      "[[ 0  1  2  3]\n",
      " [ 4  5  6  7]\n",
      " [ 8  9 10 11]\n",
      " [12 13 14 15]\n",
      " [16 17 18 19]\n",
      " [20 21 22 23]]\n",
      "(6, 4) \n",
      "\n",
      "[[0 1]\n",
      " [4 5]]\n",
      "maxVal: 5 \n",
      "\n",
      "[[2 3]\n",
      " [6 7]]\n",
      "maxVal: 7 \n",
      "\n",
      "[[ 8  9]\n",
      " [12 13]]\n",
      "maxVal: 13 \n",
      "\n",
      "[[10 11]\n",
      " [14 15]]\n",
      "maxVal: 15 \n",
      "\n",
      "[[16 17]\n",
      " [20 21]]\n",
      "maxVal: 21 \n",
      "\n",
      "[[18 19]\n",
      " [22 23]]\n",
      "maxVal: 23 \n",
      "\n",
      "[[  5.   7.]\n",
      " [ 13.  15.]\n",
      " [ 21.  23.]]\n",
      "(3, 2)\n"
     ]
    }
   ],
   "source": [
    "#Testing the logic for moving through pooling windows\n",
    "\n",
    "import numpy as np\n",
    "\n",
    "poolFactor = 2\n",
    "inputWidth = 4\n",
    "inputHeight = 6\n",
    "\n",
    "a = np.arange(inputWidth*inputHeight).reshape(inputHeight, inputWidth)\n",
    "print a\n",
    "print np.shape(a), '\\n'\n",
    "\n",
    "outputWidth = inputWidth/poolFactor\n",
    "outputHeight = inputHeight/poolFactor\n",
    "\n",
    "outputVolume = np.zeros((outputHeight,outputWidth))\n",
    "\n",
    "for i in range(outputHeight):\n",
    "    for j in range(outputWidth):\n",
    "        subset = a[i*poolFactor:i*poolFactor+poolFactor, j*poolFactor:j*poolFactor+poolFactor]\n",
    "        print subset\n",
    "        maxVal = np.amax(subset)\n",
    "        print 'maxVal:', maxVal, '\\n'\n",
    "        outputVolume[i,j] = maxVal\n",
    "\n",
    "print outputVolume\n",
    "print np.shape(outputVolume)\n"
   ]
  },
  {
   "cell_type": "code",
   "execution_count": 43,
   "metadata": {
    "collapsed": false
   },
   "outputs": [
    {
     "name": "stdout",
     "output_type": "stream",
     "text": [
      "[[[ 0  1]\n",
      "  [ 2  3]\n",
      "  [ 4  5]]\n",
      "\n",
      " [[ 6  7]\n",
      "  [ 8  9]\n",
      "  [10 11]]\n",
      "\n",
      " [[12 13]\n",
      "  [14 15]\n",
      "  [16 17]]\n",
      "\n",
      " [[18 19]\n",
      "  [20 21]\n",
      "  [22 23]]]\n",
      "(4, 3, 2)\n",
      "[[ 0  1  2  3  4  5  6  7  8  9 10 11 12 13 14 15 16 17 18 19 20 21 22 23]]\n",
      "(1, 24)\n",
      "[[ 140.20863687   92.97414782  141.08503707  154.92862825  138.26696741\n",
      "   115.46376076  168.4432607 ]]\n",
      "(1, 7)\n",
      "[[ 140.20863687   92.97414782  141.08503707  154.92862825  138.26696741\n",
      "   115.46376076  168.4432607 ]]\n",
      "7\n"
     ]
    }
   ],
   "source": [
    "#Testing the logic for flattening the 3D input to 1D for the first FC layer\n",
    "import numpy as np\n",
    "\n",
    "inputDepth = 4\n",
    "inputHeight = 3\n",
    "inputWidth = 2\n",
    "\n",
    "numOutNeurons = 7\n",
    "\n",
    "inputVolume = np.arange(inputWidth*inputHeight*inputDepth).reshape(inputDepth, inputHeight, inputWidth)\n",
    "print inputVolume\n",
    "print np.shape(inputVolume)\n",
    "\n",
    "X = inputVolume.ravel().reshape(1, (inputDepth*inputHeight*inputWidth))\n",
    "print X\n",
    "print np.shape(X) #shape: 1x24\n",
    "\n",
    "W = np.random.rand((inputWidth*inputHeight*inputDepth), numOutNeurons)\n",
    "Z = np.dot(X, W)\n",
    "\n",
    "print Z\n",
    "print np.shape(Z)\n",
    "print np.maximum(0,Z)\n",
    "print len(Z[0])"
   ]
  }
 ],
 "metadata": {
  "kernelspec": {
   "display_name": "Python 2",
   "language": "python",
   "name": "python2"
  },
  "language_info": {
   "codemirror_mode": {
    "name": "ipython",
    "version": 2
   },
   "file_extension": ".py",
   "mimetype": "text/x-python",
   "name": "python",
   "nbconvert_exporter": "python",
   "pygments_lexer": "ipython2",
   "version": "2.7.11"
  }
 },
 "nbformat": 4,
 "nbformat_minor": 0
}
